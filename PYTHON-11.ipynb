{
 "cells": [
  {
   "cell_type": "code",
   "execution_count": null,
   "id": "92e73a79-c284-48a2-9a0f-ba9e48cbd9c9",
   "metadata": {},
   "outputs": [],
   "source": [
    "Tuples in Python"
   ]
  },
  {
   "cell_type": "code",
   "execution_count": 2,
   "id": "b1151da1-da3e-4ed0-b133-4ebffc36cb0f",
   "metadata": {},
   "outputs": [
    {
     "data": {
      "text/plain": [
       "(1, 2, 3, 4)"
      ]
     },
     "execution_count": 2,
     "metadata": {},
     "output_type": "execute_result"
    }
   ],
   "source": [
    ">>>\n",
    ">>> t1 = tuple(\"abcd\")         # tuple from string\n",
    ">>>\n",
    ">>> t1\n",
    "('a', 'b', 'c', 'd')\n",
    ">>>\n",
    ">>>\n",
    ">>> t2 = tuple(range(1, 10))   # tuple from range\n",
    ">>>\n",
    ">>> t2\n",
    "(1, 2, 3, 4, 5, 6, 7, 8, 9)\n",
    ">>>\n",
    ">>>\n",
    ">>> t3 = tuple([1,2,3,4])      # tuple from list\n",
    ">>> t3\n",
    "(1, 2, 3, 4)\n",
    ">>>"
   ]
  },
  {
   "cell_type": "code",
   "execution_count": null,
   "id": "72be96f8-1a4f-4cd8-b04f-a0937863101b",
   "metadata": {},
   "outputs": [],
   "source": [
    "Tuple Unpacking"
   ]
  },
  {
   "cell_type": "code",
   "execution_count": 4,
   "id": "95903941-5299-4e49-91e9-e3bbf72e62f5",
   "metadata": {},
   "outputs": [
    {
     "data": {
      "text/plain": [
       "'alpha'"
      ]
     },
     "execution_count": 4,
     "metadata": {},
     "output_type": "execute_result"
    }
   ],
   "source": [
    ">>>\n",
    ">>> first, second, third = \"alpha\", \"beta\", \"gamma\"\n",
    ">>>\n",
    ">>> first"
   ]
  },
  {
   "cell_type": "code",
   "execution_count": 5,
   "id": "307cee15-9cdf-4a22-965f-a1cc3df83fc3",
   "metadata": {},
   "outputs": [
    {
     "data": {
      "text/plain": [
       "'beta'"
      ]
     },
     "execution_count": 5,
     "metadata": {},
     "output_type": "execute_result"
    }
   ],
   "source": [
    ">>> second"
   ]
  },
  {
   "cell_type": "code",
   "execution_count": 6,
   "id": "6816db12-5d6f-4e0e-accd-79a5f5d9a8b3",
   "metadata": {},
   "outputs": [
    {
     "data": {
      "text/plain": [
       "'gamma'"
      ]
     },
     "execution_count": 6,
     "metadata": {},
     "output_type": "execute_result"
    }
   ],
   "source": [
    ">>> third"
   ]
  },
  {
   "cell_type": "code",
   "execution_count": null,
   "id": "c0ecee72-5271-4569-96e1-3f6eaa4be24c",
   "metadata": {},
   "outputs": [],
   "source": [
    "Operations on Tuples "
   ]
  },
  {
   "cell_type": "code",
   "execution_count": 7,
   "id": "e3fce880-071d-4644-86d4-316bf52dda1f",
   "metadata": {},
   "outputs": [
    {
     "name": "stdout",
     "output_type": "stream",
     "text": [
      "tuple_a: ('alpha', 'beta', 'gamma')\n",
      "Length of tuple_a: 3\n",
      "\n",
      "tuple_b: (1, 3, 5, 7, 9, 11, 13, 15, 17, 19)\n",
      "Highest value in tuple_b: 19\n",
      "Lowest value in tuple_b: 1\n",
      "Sum of elements in tuple_b: 100\n",
      "\n",
      "Index operator ([]) and Slicing operator ([:]) : \n",
      "tuple_a[1]: beta\n",
      "tuple_b[len(tuple_b)-1]: 19\n",
      "tuple_a[1:]: ('beta', 'gamma')\n",
      "\n",
      "Membership operators with tuples: \n",
      "'kappa' in tuple_a:  False\n",
      "'kappa' not in tuple_b:  True\n",
      "\n",
      "Iterating though elements using for loop\n",
      "tuple_a: alpha beta gamma \n",
      "tuple_b: 1 3 5 7 9 11 13 15 17 19 \n",
      "\n",
      "Comparing tuples: \n",
      "tuple_a == tuple_b: False\n",
      "tuple_a != tuple_b: True\n",
      "\n",
      "Multiplication and addition operators on tuples: \n",
      "tuple * 2: ('alpha', 'beta', 'gamma', 'alpha', 'beta', 'gamma')\n",
      "tuple_b + (10000, 20000):  (1, 3, 5, 7, 9, 11, 13, 15, 17, 19, 10000, 20000)\n"
     ]
    }
   ],
   "source": [
    "tuple_a = (\"alpha\", \"beta\", \"gamma\")\n",
    "print(\"tuple_a:\", tuple_a)\n",
    "print(\"Length of tuple_a:\", len(tuple_a))  # len() function on tuple\n",
    "\n",
    "tuple_b = tuple(range(1,20, 2)) # i.e tuple_b = (1, 3, 5, 7, 9, 11, 13, 15, 17, 19)\n",
    "print(\"\\ntuple_b:\", tuple_b)\n",
    "print(\"Highest value in tuple_b:\", max(tuple_b))   # max() function on tuple\n",
    "print(\"Lowest value in tuple_b:\",min(tuple_b))   # min() function on tuple\n",
    "print(\"Sum of elements in tuple_b:\",sum(tuple_b))   # sum() function on tuple\n",
    "\n",
    "print(\"\\nIndex operator ([]) and Slicing operator ([:]) : \")\n",
    "print(\"tuple_a[1]:\", tuple_a[1])\n",
    "print(\"tuple_b[len(tuple_b)-1]:\", tuple_b[len(tuple_b)-1])\n",
    "print(\"tuple_a[1:]:\", tuple_a[1:])\n",
    "\n",
    "print(\"\\nMembership operators with tuples: \")\n",
    "print(\"'kappa' in tuple_a: \",'kappa' in tuple_a)\n",
    "print(\"'kappa' not in tuple_b: \",'kappa' not in tuple_b)\n",
    "\n",
    "print(\"\\nIterating though elements using for loop\")\n",
    "print(\"tuple_a: \", end=\"\")\n",
    "for i in tuple_a:\n",
    "    print(i, end=\" \")\n",
    "\n",
    "print(\"\\ntuple_b: \", end=\"\")\n",
    "for i in tuple_b:\n",
    "    print(i, end=\" \")\n",
    "\n",
    "\n",
    "print(\"\\n\\nComparing tuples: \")\n",
    "print(\"tuple_a == tuple_b:\", tuple_a == tuple_b)\n",
    "print(\"tuple_a != tuple_b:\", tuple_a != tuple_b)\n",
    "\n",
    "print(\"\\nMultiplication and addition operators on tuples: \")\n",
    "print(\"tuple * 2:\", tuple_a * 2)\n",
    "print(\"tuple_b + (10000, 20000): \", tuple_b + (10000, 20000))\n",
    "\n"
   ]
  },
  {
   "cell_type": "code",
   "execution_count": null,
   "id": "eb4c1468-9fc8-4db7-984b-ae612614cea6",
   "metadata": {},
   "outputs": [],
   "source": []
  }
 ],
 "metadata": {
  "kernelspec": {
   "display_name": "Python 3 (ipykernel)",
   "language": "python",
   "name": "python3"
  },
  "language_info": {
   "codemirror_mode": {
    "name": "ipython",
    "version": 3
   },
   "file_extension": ".py",
   "mimetype": "text/x-python",
   "name": "python",
   "nbconvert_exporter": "python",
   "pygments_lexer": "ipython3",
   "version": "3.12.3"
  }
 },
 "nbformat": 4,
 "nbformat_minor": 5
}
